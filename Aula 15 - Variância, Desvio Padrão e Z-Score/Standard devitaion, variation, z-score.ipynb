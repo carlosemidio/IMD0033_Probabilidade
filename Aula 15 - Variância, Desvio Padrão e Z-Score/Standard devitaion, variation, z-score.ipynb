{
 "cells": [
  {
   "cell_type": "markdown",
   "metadata": {},
   "source": [
    "1. Normal distribution deviation\n",
    "==\n",
    "\n",
    "One cool thing about normal distributions is that for every single one, the same percentage of the data is within one standard deviation of the mean, the same percentage is within two standard deviations of the mean, and so on.\n",
    "\n",
    "About 68% of the data is within one standard deviation, roughly 95% is within two standard deviations, and about 99% is within three standard deviations.\n",
    "\n",
    "This helps us quickly understand where values fall within the data set, as well as how typical or unusual they are."
   ]
  },
  {
   "cell_type": "code",
   "execution_count": 2,
   "metadata": {
    "collapsed": true
   },
   "outputs": [],
   "source": [
    "# Housefly wing lengths in millimeters\n",
    "wing_lengths = [36, 37, 38, 38, 39, 39, 40, 40, 40, 40, 41, 41, 41, 41, 41, 41, 42, \n",
    "                42, 42, 42, 42, 42, 42, 43, 43, 43, 43, 43, 43, 43, 43, 44, 44, 44, \n",
    "                44, 44, 44, 44, 44, 44, 45, 45, 45, 45, 45, 45, 45, 45, 45, 45, 46,\n",
    "                46, 46, 46, 46, 46, 46, 46, 46, 46, 47, 47, 47, 47, 47, 47, 47, 47,\n",
    "                47, 48, 48, 48, 48, 48, 48, 48, 48, 49, 49, 49, 49, 49, 49, 49, 50, \n",
    "                50, 50, 50, 50, 50, 51, 51, 51, 51, 52, 52, 53, 53, 54, 55]\n",
    "\n",
    "# centrality variables\n",
    "mean = sum(wing_lengths) / len(wing_lengths)\n",
    "variances = [(i - mean) ** 2 for i in wing_lengths]\n",
    "variance = sum(variances)/ len(variances)\n",
    "standard_deviation = variance ** (1/2)\n"
   ]
  },
  {
   "cell_type": "markdown",
   "metadata": {},
   "source": [
    "<br>\n",
    "<div class=\"alert alert-info\">\n",
    "<b>Exercise Start.</b>\n",
    "</div>\n",
    "\n",
    "**Description**:\n",
    "\n",
    "1. For each point in <span style=\"background-color: #F9EBEA; color:##C0392B\">wing_lengths</span>, calculate the distance from the mean in number of standard deviations.\n",
    "2. Calculate the proportion of the data that's within one standard deviation of the mean. Assign the result to <span style=\"background-color: #F9EBEA; color:##C0392B\">within_one_percentage</span>.\n",
    "3. Calculate the proportion of the data that's within two standard deviations of the mean. Assign the result to <span style=\"background-color: #F9EBEA; color:##C0392B\">within_two_percentage</span>.\n",
    "4. Calculate the proportion of the data that's within three standard deviations of the mean. Assign the result to <span style=\"background-color: #F9EBEA; color:##C0392B\">within_three_percentage</span>."
   ]
  },
  {
   "cell_type": "code",
   "execution_count": 2,
   "metadata": {
    "collapsed": true
   },
   "outputs": [],
   "source": [
    "# Calculates the distance from the mean in number of standard deviations for each point of the vector\n",
    "\n",
    "def distances_from_mean_to_std_dev(data):\n",
    "    mean = sum(data) / len(data)\n",
    "    variances = [(i - mean) ** 2 for i in data]\n",
    "    variance = sum(variances)/ len(variances)\n",
    "    standard_deviation = variance ** (1/2)\n",
    "    \n",
    "    distances = list()\n",
    "    \n",
    "    for i in data:\n",
    "        distances.append((i-mean)/standard_deviation)\n",
    "    \n",
    "    return distances"
   ]
  },
  {
   "cell_type": "code",
   "execution_count": 3,
   "metadata": {},
   "outputs": [
    {
     "data": {
      "text/plain": [
       "3.9"
      ]
     },
     "execution_count": 3,
     "metadata": {},
     "output_type": "execute_result"
    }
   ],
   "source": [
    "mean = sum(wing_lengths) / len(wing_lengths)\n",
    "variances = [(i - mean) ** 2 for i in wing_lengths]\n",
    "variance = sum(variances)/ len(variances)\n",
    "standard_deviation = variance ** (1/2)\n",
    "standard_deviation"
   ]
  },
  {
   "cell_type": "code",
   "execution_count": 9,
   "metadata": {},
   "outputs": [
    {
     "name": "stdout",
     "output_type": "stream",
     "text": [
      "68.0\n"
     ]
    }
   ],
   "source": [
    "within_one_std_dev = [i for i in wing_lengths if ((i <= (mean + standard_deviation)) and (i >= (mean - standard_deviation)))]\n",
    "within_one_percentage = (len(within_one_std_dev) * 100) / len(wing_lengths)\n",
    "print(within_one_percentage)"
   ]
  },
  {
   "cell_type": "code",
   "execution_count": 11,
   "metadata": {},
   "outputs": [
    {
     "name": "stdout",
     "output_type": "stream",
     "text": [
      "96.0\n"
     ]
    }
   ],
   "source": [
    "within_two_std_dev = [i for i in wing_lengths if ((i <= (mean + 2*standard_deviation)) and (i >= (mean - 2*standard_deviation)))]\n",
    "within_two_percentages = (len(within_two_std_dev) * 100) / len(wing_lengths)\n",
    "print(within_two_percentages)"
   ]
  },
  {
   "cell_type": "code",
   "execution_count": 12,
   "metadata": {},
   "outputs": [
    {
     "name": "stdout",
     "output_type": "stream",
     "text": [
      "100.0\n"
     ]
    }
   ],
   "source": [
    "within_three_std_dev = [i for i in wing_lengths if ((i <= (mean + 3*standard_deviation)) and (i >= (mean - 3*standard_deviation)))]\n",
    "within_three_percentages = (len(within_three_std_dev) * 100) / len(wing_lengths)\n",
    "print(within_three_percentages)"
   ]
  },
  {
   "cell_type": "code",
   "execution_count": 3,
   "metadata": {},
   "outputs": [
    {
     "name": "stdout",
     "output_type": "stream",
     "text": [
      "[-2.435897435897436, -2.1794871794871797, -1.9230769230769231, -1.9230769230769231, -1.6666666666666667, -1.6666666666666667, -1.4102564102564104, -1.4102564102564104, -1.4102564102564104, -1.4102564102564104, -1.153846153846154, -1.153846153846154, -1.153846153846154, -1.153846153846154, -1.153846153846154, -1.153846153846154, -0.8974358974358975, -0.8974358974358975, -0.8974358974358975, -0.8974358974358975, -0.8974358974358975, -0.8974358974358975, -0.8974358974358975, -0.6410256410256411, -0.6410256410256411, -0.6410256410256411, -0.6410256410256411, -0.6410256410256411, -0.6410256410256411, -0.6410256410256411, -0.6410256410256411, -0.38461538461538464, -0.38461538461538464, -0.38461538461538464, -0.38461538461538464, -0.38461538461538464, -0.38461538461538464, -0.38461538461538464, -0.38461538461538464, -0.38461538461538464, -0.12820512820512822, -0.12820512820512822, -0.12820512820512822, -0.12820512820512822, -0.12820512820512822, -0.12820512820512822, -0.12820512820512822, -0.12820512820512822, -0.12820512820512822, -0.12820512820512822, 0.12820512820512822, 0.12820512820512822, 0.12820512820512822, 0.12820512820512822, 0.12820512820512822, 0.12820512820512822, 0.12820512820512822, 0.12820512820512822, 0.12820512820512822, 0.12820512820512822, 0.38461538461538464, 0.38461538461538464, 0.38461538461538464, 0.38461538461538464, 0.38461538461538464, 0.38461538461538464, 0.38461538461538464, 0.38461538461538464, 0.38461538461538464, 0.6410256410256411, 0.6410256410256411, 0.6410256410256411, 0.6410256410256411, 0.6410256410256411, 0.6410256410256411, 0.6410256410256411, 0.6410256410256411, 0.8974358974358975, 0.8974358974358975, 0.8974358974358975, 0.8974358974358975, 0.8974358974358975, 0.8974358974358975, 0.8974358974358975, 1.153846153846154, 1.153846153846154, 1.153846153846154, 1.153846153846154, 1.153846153846154, 1.153846153846154, 1.4102564102564104, 1.4102564102564104, 1.4102564102564104, 1.4102564102564104, 1.6666666666666667, 1.6666666666666667, 1.9230769230769231, 1.9230769230769231, 2.1794871794871797, 2.435897435897436]\n"
     ]
    }
   ],
   "source": [
    "# 1 distances from the mean in number of standard deviations for each point of the vector\n",
    "print(distances_from_mean_to_std_dev(wing_lengths))"
   ]
  },
  {
   "cell_type": "code",
   "execution_count": 4,
   "metadata": {
    "collapsed": true
   },
   "outputs": [],
   "source": [
    "\n",
    "\n",
    "def percentege(data, number):\n",
    "    mean = sum(data) / len(data)\n",
    "    variances = [(i - mean) ** 2 for i in data]\n",
    "    variance = sum(variances)/ len(variances)\n",
    "    standard_deviation = variance ** (1/2)\n",
    "    \n",
    "    result = 0\n",
    "    \n",
    "    for i in data:\n",
    "        if (i <= (mean+(standard_deviation*number))) & (i >= (mean-(standard_deviation*number))):\n",
    "            result += 1    \n",
    "    \n",
    "    return result/len(data)"
   ]
  },
  {
   "cell_type": "code",
   "execution_count": 5,
   "metadata": {},
   "outputs": [
    {
     "data": {
      "text/plain": [
       "0.68"
      ]
     },
     "execution_count": 5,
     "metadata": {},
     "output_type": "execute_result"
    }
   ],
   "source": [
    "within_one_percentage = percentege(wing_lengths,1)\n",
    "within_one_percentage"
   ]
  },
  {
   "cell_type": "code",
   "execution_count": 6,
   "metadata": {},
   "outputs": [
    {
     "data": {
      "text/plain": [
       "0.96"
      ]
     },
     "execution_count": 6,
     "metadata": {},
     "output_type": "execute_result"
    }
   ],
   "source": [
    "within_two_percentage = percentege(wing_lengths,2)\n",
    "within_two_percentage"
   ]
  },
  {
   "cell_type": "code",
   "execution_count": 7,
   "metadata": {},
   "outputs": [
    {
     "data": {
      "text/plain": [
       "1.0"
      ]
     },
     "execution_count": 7,
     "metadata": {},
     "output_type": "execute_result"
    }
   ],
   "source": [
    "within_three_percentage = percentege(wing_lengths,3)\n",
    "within_three_percentage"
   ]
  },
  {
   "cell_type": "markdown",
   "metadata": {},
   "source": [
    "2. Z-Score\n",
    "=="
   ]
  },
  {
   "cell_type": "code",
   "execution_count": 1,
   "metadata": {},
   "outputs": [
    {
     "name": "stdout",
     "output_type": "stream",
     "text": [
      "Populating the interactive namespace from numpy and matplotlib\n",
      "[118, 154, 190, 226, 262]\n"
     ]
    },
    {
     "data": {
      "image/png": "[encoded data removed]",
      "text/plain": [
       "<matplotlib.figure.Figure at 0x7fa2543d2940>"
      ]
     },
     "metadata": {},
     "output_type": "display_data"
    },
    {
     "data": {
      "text/plain": [
       "0.9175667301260455"
      ]
     },
     "execution_count": 1,
     "metadata": {},
     "output_type": "execute_result"
    }
   ],
   "source": [
    "import numpy as np\n",
    "import scipy.stats as stats\n",
    "import matplotlib.pyplot as plt\n",
    "\n",
    "%pylab inline\n",
    "pylab.rcParams['figure.figsize'] = (10, 8)\n",
    "\n",
    "## points under study\n",
    "xi = 240\n",
    "mean_facebook = 190\n",
    "std_facebook = 36\n",
    "axis_x = range(0,300)\n",
    "\n",
    "## return the cumulative value from Z-Table\n",
    "cdf = stats.norm.cdf(xi,mean_facebook, std_facebook)\n",
    "\n",
    "## -2std, -std, std, 2std \n",
    "minus2std = mean_facebook - 2*std_facebook\n",
    "minusstd = mean_facebook - std_facebook\n",
    "plus1std = mean_facebook + std_facebook\n",
    "plus2std = mean_facebook + 2*std_facebook\n",
    "\n",
    "## mark points in the plot\n",
    "markers_points = [minus2std, minusstd, mean_facebook, plus1std, plus2std]\n",
    "\n",
    "## find the probability distribution function\n",
    "pdf = stats.norm.pdf(axis_x,mean_facebook,std_facebook)\n",
    "\n",
    "\n",
    "## - line, b -blue, D - diamond\n",
    "plt.plot(axis_x, pdf, '-bD',markevery=markers_points)\n",
    "plt.annotate('$\\mu$',xy=(mean_facebook+4,pdf[mean_facebook]))\n",
    "plt.annotate('$-2\\sigma$',xy=(minus2std-14,pdf[minus2std]))\n",
    "plt.annotate('$-\\sigma$',xy=(minusstd-10,pdf[minusstd]))\n",
    "plt.annotate('$\\sigma$',xy=(plus1std+4,pdf[plus1std]))\n",
    "plt.annotate('$2\\sigma$',xy=(plus2std+4,pdf[plus2std]))\n",
    "\n",
    "print(markers_points)\n",
    "## The shaded area is cdf at xi, in other words, cdf[240] = 0.9175667301260455\n",
    "plt.fill_between(axis_x[0:xi], pdf[0:xi],color='g',alpha=.5)\n",
    "\n",
    "plt.show()\n",
    "\n",
    "cdf\n"
   ]
  }
 ],
 "metadata": {
  "kernelspec": {
   "display_name": "Python 3",
   "language": "python",
   "name": "python3"
  },
  "language_info": {
   "codemirror_mode": {
    "name": "ipython",
    "version": 3
   },
   "file_extension": ".py",
   "mimetype": "text/x-python",
   "name": "python",
   "nbconvert_exporter": "python",
   "pygments_lexer": "ipython3",
   "version": "3.6.2"
  }
 },
 "nbformat": 4,
 "nbformat_minor": 2
}
