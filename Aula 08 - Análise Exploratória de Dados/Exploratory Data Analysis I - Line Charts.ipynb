{
 "cells": [
  {
   "cell_type": "markdown",
   "metadata": {},
   "source": [
    "## 1. Representation of Data\n",
    "\n",
    "So far, we've mostly been manipulating and working with data that are represented as tables. Microsoft Excel, the pandas library in Python, and the CSV file format for datasets were all developed around this representation. Because a table neatly organizes values into rows and columns, we can easily look up specific values at the intersection of a row value and a column value. Unfortunately, it's very difficult to explore a dataset to uncover patterns when it's represented as a table, especially when that dataset contains many values. We need a different representation of data that can help us identify patterns more easily.\n",
    "\n",
    "In this mission, we'll learn the basics of **data visualization**, a discipline that focuses on the visual representation of data. As humans, our brains have evolved to develop powerful visual processing capabilities. We can quickly find patterns in the visual information we encounter, which was incredibly important from a survivability standpoint. Unfortunately, when data is represented as tables of values, we can't really take advantage of our visual pattern matching capabilities. This is because our ability to quickly process symbolic values (like numbers and words) is very poor. Data visualization focuses on transforming data from table representations visual ones.\n",
    "\n",
    "In this lesson, named **Exploratory Data Analysis**, we'll focus on data visualization techniques to explore datasets and help us uncover patterns. In this mission, we'll use a specific type of data visualization to understand U.S. unemployment data."
   ]
  },
  {
   "cell_type": "markdown",
   "metadata": {},
   "source": [
    "## 2. Introduction to the Data\n",
    "\n",
    "The **United States Bureau of Labor Statistics (BLS)** surveys and calculates the monthly unemployment rate. The unemployment rate is the percentage of individuals in the labor force without a job. While unemployment rate isn't perfect, it's a commonly used proxy for the health of the economy. You may have heard politicians and reporters state the unemployment rate when commenting on the economy. You can read more about how the BLS calculates the unemployment rate [here](http://www.bls.gov/cps/cps_htgm.htm).\n",
    "\n",
    "The BLS releases monthly unemployment data available for download as an Excel file, with the <span style=\"background-color: #F9EBEA; color:##C0392B\">.xlsx</span> file extension. While the pandas library can read in XLSX files, it relies on an external library for actually parsing the format. Let's instead download the same dataset as a CSV file from the website of the [Federal Reserve Bank of St. Louis](https://www.stlouisfed.org/). We've downloaded the monthly unemployment rate as a CSV from January 1948 to August 2016, saved it as <span style=\"background-color: #F9EBEA; color:##C0392B\">unrate.csv</span>, and made it available in this mission.\n",
    "\n",
    "To download this dataset on your own, head to the Federal Reserve Bank of St. Louis's [website](https://fred.stlouisfed.org/series/UNRATE/downloaddata), select <span style=\"background-color: #F9EBEA; color:##C0392B\">Text, Comma Separated</span> as the **File Format**, make sure the **Date Range** field starts at <span style=\"background-color: #F9EBEA; color:##C0392B\">1948-01-01</span> and ends at <span style=\"background-color: #F9EBEA; color:##C0392B\">2016-08-01</span>.\n",
    "\n",
    "Before we get into visual representations of data, let's first read this CSV file into pandas to explore the table representation of this data. The dataset we'll be working with is a [time series](https://en.wikipedia.org/wiki/Time_series) dataset, which means the data points (monthly unemployment rates) are ordered by time. Here's a preview of the dataset:\n",
    "\n",
    "<img width=\"200\" alt=\"creating a repo\" src=\"https://drive.google.com/uc?export=view&id=0BxhVm1REqwr0MlFzOWFIYVpkejg\">\n",
    "\n",
    "When we read the dataset into a DataFrame, pandas will set the data type of the <span style=\"background-color: #F9EBEA; color:##C0392B\">DATE</span> column as a text column. Because of how pandas reads in strings internally, this column is given a data type of <span style=\"background-color: #F9EBEA; color:##C0392B\">object</span>. We need to convert this column to the <span style=\"background-color: #F9EBEA; color:##C0392B\">datetime</span> type using the [pandas.to_datetime()](http://pandas.pydata.org/pandas-docs/stable/generated/pandas.to_datetime.html) function, which returns a Series object with the <span style=\"background-color: #F9EBEA; color:##C0392B\">datetime</span> data type that we can assign back to the DataFrame:\n",
    "\n",
    ">```python\n",
    "import pandas as pd\n",
    "df['col'] = pd.to_datetime(df['col'])\n",
    "```\n",
    "\n",
    "\n",
    "<br>\n",
    "<div class=\"alert alert-info\">\n",
    "<b>Exercise Start.</b>\n",
    "</div>\n",
    "\n",
    "**Description**:\n",
    "\n",
    "1. Read <span style=\"background-color: #F9EBEA; color:##C0392B\">unrate.csv</span> into a DataFrame and assign to unrate.\n",
    "2. Use the [pandas.to_datetime()](http://pandas.pydata.org/pandas-docs/stable/generated/pandas.to_datetime.html) function to convert the <span style=\"background-color: #F9EBEA; color:##C0392B\">DATE</span> column into a series of <span style=\"background-color: #F9EBEA; color:##C0392B\">datetime</span> values.\n",
    "3. Display the first 12 rows in unrate."
   ]
  },
  {
   "cell_type": "code",
   "execution_count": 10,
   "metadata": {},
   "outputs": [
    {
     "data": {
      "text/html": [
       "<div>\n",
       "<style>\n",
       "    .dataframe thead tr:only-child th {\n",
       "        text-align: right;\n",
       "    }\n",
       "\n",
       "    .dataframe thead th {\n",
       "        text-align: left;\n",
       "    }\n",
       "\n",
       "    .dataframe tbody tr th {\n",
       "        vertical-align: top;\n",
       "    }\n",
       "</style>\n",
       "<table border=\"1\" class=\"dataframe\">\n",
       "  <thead>\n",
       "    <tr style=\"text-align: right;\">\n",
       "      <th></th>\n",
       "      <th>DATE</th>\n",
       "      <th>VALUE</th>\n",
       "    </tr>\n",
       "  </thead>\n",
       "  <tbody>\n",
       "    <tr>\n",
       "      <th>0</th>\n",
       "      <td>1948-01-01</td>\n",
       "      <td>3.4</td>\n",
       "    </tr>\n",
       "    <tr>\n",
       "      <th>1</th>\n",
       "      <td>1948-02-01</td>\n",
       "      <td>3.8</td>\n",
       "    </tr>\n",
       "    <tr>\n",
       "      <th>2</th>\n",
       "      <td>1948-03-01</td>\n",
       "      <td>4.0</td>\n",
       "    </tr>\n",
       "    <tr>\n",
       "      <th>3</th>\n",
       "      <td>1948-04-01</td>\n",
       "      <td>3.9</td>\n",
       "    </tr>\n",
       "    <tr>\n",
       "      <th>4</th>\n",
       "      <td>1948-05-01</td>\n",
       "      <td>3.5</td>\n",
       "    </tr>\n",
       "    <tr>\n",
       "      <th>5</th>\n",
       "      <td>1948-06-01</td>\n",
       "      <td>3.6</td>\n",
       "    </tr>\n",
       "    <tr>\n",
       "      <th>6</th>\n",
       "      <td>1948-07-01</td>\n",
       "      <td>3.6</td>\n",
       "    </tr>\n",
       "    <tr>\n",
       "      <th>7</th>\n",
       "      <td>1948-08-01</td>\n",
       "      <td>3.9</td>\n",
       "    </tr>\n",
       "    <tr>\n",
       "      <th>8</th>\n",
       "      <td>1948-09-01</td>\n",
       "      <td>3.8</td>\n",
       "    </tr>\n",
       "    <tr>\n",
       "      <th>9</th>\n",
       "      <td>1948-10-01</td>\n",
       "      <td>3.7</td>\n",
       "    </tr>\n",
       "    <tr>\n",
       "      <th>10</th>\n",
       "      <td>1948-11-01</td>\n",
       "      <td>3.8</td>\n",
       "    </tr>\n",
       "    <tr>\n",
       "      <th>11</th>\n",
       "      <td>1948-12-01</td>\n",
       "      <td>4.0</td>\n",
       "    </tr>\n",
       "  </tbody>\n",
       "</table>\n",
       "</div>"
      ],
      "text/plain": [
       "         DATE  VALUE\n",
       "0  1948-01-01    3.4\n",
       "1  1948-02-01    3.8\n",
       "2  1948-03-01    4.0\n",
       "3  1948-04-01    3.9\n",
       "4  1948-05-01    3.5\n",
       "5  1948-06-01    3.6\n",
       "6  1948-07-01    3.6\n",
       "7  1948-08-01    3.9\n",
       "8  1948-09-01    3.8\n",
       "9  1948-10-01    3.7\n",
       "10 1948-11-01    3.8\n",
       "11 1948-12-01    4.0"
      ]
     },
     "execution_count": 10,
     "metadata": {},
     "output_type": "execute_result"
    }
   ],
   "source": [
    "import pandas as pd\n",
    "unrate = pd.read_csv(\"unrate.csv\")\n",
    "unrate['DATE'] = pd.to_datetime(unrate['DATE'])\n",
    "unrate.head(12)"
   ]
  },
  {
   "cell_type": "markdown",
   "metadata": {},
   "source": [
    "## 3. Table representation\n",
    "\n",
    "The dataset contains 2 columns:\n",
    "\n",
    "- DATE: date, always the first of the month. Here are some examples:\n",
    "    - 1948-01-01: January 1, 1948.\n",
    "    - 1948-02-01: February 1, 1948.\n",
    "    - 1948-03-01: March 1, 1948.\n",
    "    - 1948-12-01: December 1, 1948.\n",
    "- VALUE: the corresponding unemployment rate, in percent.\n",
    "\n",
    "The first 12 rows reflect the unemployment rate from January 1948 to December 1948:\n",
    "\n",
    "<img width=\"150\" alt=\"creating a repo\" src=\"https://drive.google.com/uc?export=view&id=0BxhVm1REqwr0U0Z3ZGVVT01TVms\">\n",
    "\n",
    "Take a minute to visually scan the table and observe how the monthly unemployment rate has changed over time. When you're finished, head to the next cell in this notebook."
   ]
  },
  {
   "cell_type": "markdown",
   "metadata": {},
   "source": [
    "## 4. Observation from the table representation\n",
    "\n",
    "We can make the following observations from the table:\n",
    "\n",
    "- In 1948:\n",
    "    - monthly unemployment rate ranged between **3.4** and **4.0**.\n",
    "    - highest unemployment rate was reached in both March and December.\n",
    "    - lowest unemployment rate was reached in January.\n",
    "- From January to March, unemployment rate trended up.\n",
    "- From March to May, unemployment rate trended down.\n",
    "- From May to August, unemployment rate trended up.\n",
    "- From August to October, unemployment rate trended down.\n",
    "- From October to December, unemployment rate trended up.\n",
    "\n",
    "Because the table only contained the data from 1948, it didn't take too much time to identify these observations. If we scale up the table to include all 824 rows, it would be very time-consuming and painful to understand. Tables shine at presenting information precisely at the intersection of rows and columns and allow us to perform quick lookups when we know the row and column we're interested in. In addition, problems that involve comparing values between adjacent rows or columns are well suited for tables. Unfortunately, many problems you'll encounter in data science require comparisons that aren't possible with just tables.\n",
    "\n",
    "For example, one thing we learned from looking at the monthly unemployment rates for 1948 is that every few months, the unemployment rate switches between trending up and trending down. It's not switching direction every month, however, and this could mean that there's a seasonal effect. <span style=\"background-color: #F9EBEA; color:##C0392B\">Seasonality</span> is when a pattern is observed on a regular, predictable basis for a specific reason. A simple example of seasonality would be a large increase textbook purchases every August every year. Many schools start their terms in August in north hemisphere and this spike in textbook sales is directly linked.\n",
    "\n",
    "We need to first understand if there's any seasonality by comparing the unemployment trends across many years so we can decide if we should investigate it further. The faster we're able to assess our data, the faster we can perform high-level analysis quickly. If we're reliant on just the table to help us figure this out, then we won't be able to perform a high level test quickly. Let's see how a visual representation of the same information can be more helpful than the table representation."
   ]
  },
  {
   "cell_type": "markdown",
   "metadata": {},
   "source": [
    "## 5. Visual representation\n",
    "\n",
    "Instead of representing data using text like tables do, visual representations use visual objects like dots, shapes, and lines on a grid. [Plots](https://en.wikipedia.org/wiki/Plot_%28graphics%29) are a category of visual representations that allow us to easily understand the relationships between variables. There are many types of plots and selecting the right one is an important skill that you'll hone as you create data visualizations. Because we want to compare the unemployment trends across time, we should use line charts. Here's an overview of **line charts** using 4 sample data points:\n",
    "\n",
    "\n",
    "<img width=\"900\" alt=\"creating a repo\" src=\"https://drive.google.com/uc?export=view&id=0BxhVm1REqwr0Ulhpb2pwTGRUYzQ\">\n",
    "\n",
    "Line charts work best when there is a logical connection between adjacent points. In our case, that connection is the flow of time. Between 2 reported monthly unemployment values, the unemployment rate is fluctuating and time is passing. To emphasize how the visual representation of the line chart helps us observe trends easily, let's look at the same 12 data points from 1948 as a line chart.\n",
    "\n",
    "<img width=\"600\" alt=\"creating a repo\" src=\"https://drive.google.com/uc?export=view&id=0BxhVm1REqwr0cHVJUUVTdlh1ZHc\">\n",
    "\n",
    "We can reach the same observations about the data from the line chart as we did from the table representation:\n",
    "\n",
    "<img width=\"600\" alt=\"creating a repo\" src=\"https://drive.google.com/uc?export=view&id=0BxhVm1REqwr0Szk1OERkRlNnSnc\">\n",
    "\n",
    "In the rest of this mission, we'll explore how to recreate this line chart in Python. In the next mission, we'll explore how to create multiple line charts to help us compare unemployment trends."
   ]
  },
  {
   "cell_type": "markdown",
   "metadata": {},
   "source": [
    "## 6. Introduction to matplotlib\n",
    "\n",
    "To create the line chart, we'll use the [matplotlib](http://matplotlib.org/) library, which allows us to:\n",
    "\n",
    "- quickly create common plots using high-level functions\n",
    "- extensively tweak plots\n",
    "- create new kinds of plots from the ground up\n",
    "\n",
    "To help you become familiar with matplotlib, we'll focus on the first 2 use cases. When working with commonly used plots in matplotlib, the general workflow is:\n",
    "\n",
    "- create a plot using data\n",
    "- customize the appearance of the plot\n",
    "- display the plot\n",
    "- edit and repeat until satisfied\n",
    "\n",
    "This interactive style aligns well with the exploratory workflow of data visualization because we're asking questions and creating data visualizations to help us get answers. The pyplot module provides a high-level interface for matplotlib that allows us to quickly create common data plots and perform common tweaks to them.\n",
    "\n",
    "The pyplot module is commonly imported as <span style=\"background-color: #F9EBEA; color:##C0392B\">plt</span> from <span style=\"background-color: #F9EBEA; color:##C0392B\">matplotlib</span>:\n",
    "\n",
    ">```python\n",
    "import matplotlib.pyplot as plt\n",
    "```\n",
    "\n",
    "Using the different pyplot functions, we can create, customize, and display a plot. For example, we can use 2 functions to :\n",
    "\n",
    ">```python\n",
    "plt.plot()\n",
    "plt.show()\n",
    "```\n",
    "\n",
    "Because we didn't pass in any arguments, the [plot()](http://matplotlib.org/api/pyplot_api.html#matplotlib.pyplot.plot) function would generate an empty plot with just the axes and ticks and the [show()](http://matplotlib.org/api/pyplot_api.html#matplotlib.pyplot.show) function would display that plot. You'll notice that we didn't assign the plot to a variable and then call a method on the variable to display it. We instead called 2 functions on the pyplot module directly.\n",
    "\n",
    "This is because every time we call a pyplot function, the module maintains and updates the plot internally (also known as state). When we call <span style=\"background-color: #F9EBEA; color:##C0392B\">show()</span>, the plot is displayed and the internal state is destroyed. While this workflow isn't ideal when we're writing functions that create plots on a repeated basis as part of a larger application, it's useful when exploring data.\n",
    "\n",
    "Let's run this code to see the default properties matplotlib uses. If you'd like to follow along on your own computer, we recommend installing matplotlib using Anaconda: <span style=\"background-color: #F9EBEA; color:##C0392B\">conda install matplotlib</span>. We recommend working with matplotlib using Jupyter Notebook because it can render the plots in the notebook itself. You will need to run the following Jupyter magic in a code cell each time you open your notebook: <span style=\"background-color: #F9EBEA; color:##C0392B\">%matplotlib inline</span>. Whenever you call <span style=\"background-color: #F9EBEA; color:##C0392B\">show()</span>, the plots will be displayed in the output cell. You can read more [here](http://ipython.readthedocs.io/en/stable/interactive/plotting.html).\n",
    "\n",
    "\n",
    "<br>\n",
    "<div class=\"alert alert-info\">\n",
    "<b>Exercise Start.</b>\n",
    "</div>\n",
    "\n",
    "**Description**:\n",
    "\n",
    "1. Generate an empty plot using <span style=\"background-color: #F9EBEA; color:##C0392B\">plt.plot()</span> and display it using <span style=\"background-color: #F9EBEA; color:##C0392B\">plt.show()</span>.\n"
   ]
  },
  {
   "cell_type": "code",
   "execution_count": 16,
   "metadata": {},
   "outputs": [
    {
     "data": {
      "image/png": "[encoded data removed]",
      "text/plain": [
       "<matplotlib.figure.Figure at 0x640a250>"
      ]
     },
     "metadata": {},
     "output_type": "display_data"
    }
   ],
   "source": [
    "import matplotlib.pyplot as plt\n",
    "plt.plot()\n",
    "plt.show()"
   ]
  },
  {
   "cell_type": "markdown",
   "metadata": {},
   "source": [
    "## 7. Adding data\n",
    "\n",
    "By default, Matplotlib displayed a coordinate grid with:\n",
    "\n",
    "- the x-axis and y-axis values ranging from **-0.06** to **0.06**\n",
    "- no grid lines\n",
    "- no data\n",
    "\n",
    "Even though no data was plotted, the x-axis and y-axis ticks corresponding to the **-0.06** to **0.06** value range. The axis ticks consist of tick marks and tick labels. Here's a focused view of the x-axis tick marks and x-axis tick labels:\n",
    "\n",
    "\n",
    "<img width=\"700\" alt=\"creating a repo\" src=\"https://drive.google.com/uc?export=view&id=0BxhVm1REqwr0MmNhaUpLYV9jVHM\">\n",
    "\n",
    "\n",
    "To create a line chart of the unemployment data from 1948, we need:\n",
    "\n",
    "- the x-axis to range from <span style=\"background-color: #F9EBEA; color:##C0392B\">01-01-1948</span> to <span style=\"background-color: #F9EBEA; color:##C0392B\">12-01-1948</span> (which corresponds to the first and last months in 1948)\n",
    "- the y-axis to range from <span style=\"background-color: #F9EBEA; color:##C0392B\">3.4</span> to <span style=\"background-color: #F9EBEA; color:##C0392B\">4.0</span> (which correspond to the minimum and maximum unemployment values)\n",
    "\n",
    "Instead of manually updating the ticks, drawing each marker, and connecting the markers with lines, we can just specify the data we want plotted and let matplotlib handle the rest. To generate the line chart we're interested in, we pass in the list of x-values as the first parameter and the list of y-values as the second parameter to [plot()](http://matplotlib.org/api/pyplot_api.html#matplotlib.pyplot.plot):\n",
    "\n",
    ">```python\n",
    "plt.plot(x_values, y_values)\n",
    "```\n",
    "\n",
    "Matplotlib will accept any iterable object, like NumPy arrays and <span style=\"background-color: #F9EBEA; color:##C0392B\">pandas.Series</span> instances.\n",
    "\n",
    "<br>\n",
    "<div class=\"alert alert-info\">\n",
    "<b>Exercise Start.</b>\n",
    "</div>\n",
    "\n",
    "**Description**:\n",
    "\n",
    "1. Generate a line chart that visualizes the unemployment rates from 1948:\n",
    "    - x-values should be the first 12 values in the <span style=\"background-color: #F9EBEA; color:##C0392B\">DATE</span> column\n",
    "    - y-values should be the first 12 values in the <span style=\"background-color: #F9EBEA; color:##C0392B\">VALUE</span> column\n",
    "2. Display the plot."
   ]
  },
  {
   "cell_type": "code",
   "execution_count": 17,
   "metadata": {},
   "outputs": [
    {
     "data": {
      "image/png": "[encoded data removed]",
      "text/plain": [
       "<matplotlib.figure.Figure at 0xa85d6b0>"
      ]
     },
     "metadata": {},
     "output_type": "display_data"
    }
   ],
   "source": [
    "plt.plot(unrate['DATE'], unrate['VALUE'])\n",
    "plt.show()"
   ]
  },
  {
   "cell_type": "markdown",
   "metadata": {},
   "source": [
    "## 8. Fixing axis ticks\n",
    "\n",
    "While the y-axis looks fine, the x-axis **tick labels** are too close together and can be unreadable. The line charts from earlier in the mission suggest a better way to display the x-axis tick labels.\n",
    "\n",
    "We can rotate the x-axis tick labels by 90 degrees so they don't overlap. The <span style=\"background-color: #F9EBEA; color:##C0392B\">xticks()</span> function within pyplot lets you customize the behavior of the x-axis ticks. If you head over to the [documentation for that function](http://matplotlib.org/api/pyplot_api.html#matplotlib.pyplot.xticks), it's not immediately obvious the arguments it takes:\n",
    "\n",
    ">```python\n",
    "matplotlib.pyplot.xticks(*args, **kwargs)\n",
    "```\n",
    "\n",
    "In the documentation for the function, you'll see a link to the matplotlib [Text](http://matplotlib.org/api/text_api.html#matplotlib.text.Text) class, which is what pyplot uses to represent the x-axis tick labels. You'll notice that there's a <span style=\"background-color: #F9EBEA; color:##C0392B\">rotation</span> parameter that accepts degrees of rotation as a parameter. We can specify degrees of rotation using a float or integer value.\n",
    "\n",
    "As a side note, if you read the documentation for [pyplot](http://matplotlib.org/api/pyplot_api.html), you'll notice that many functions for tweaking the x-axis have matching functions for the y-axis. For example, the y-axis counterpart to the [xticks()](http://matplotlib.org/api/pyplot_api.html#matplotlib.pyplot.xticks) function is the yticks() function.\n",
    "\n",
    "Use what we've discussed so far to rotate the x-axis tick labels by 90 degrees.\n",
    "\n",
    "\n",
    "<br>\n",
    "<div class=\"alert alert-info\">\n",
    "<b>Exercise Start.</b>\n",
    "</div>\n",
    "\n",
    "**Description**:\n",
    "\n",
    "1. Generate the same line chart from the last screen that visualizes the unemployment rates from 1948:\n",
    "    - x-values should be the first 12 values in the <span style=\"background-color: #F9EBEA; color:##C0392B\">DATE</span> column\n",
    "    - y-values should be the first 12 values in the <span style=\"background-color: #F9EBEA; color:##C0392B\">VALUE</span> column\n",
    "2. Use <span style=\"background-color: #F9EBEA; color:##C0392B\">pyplot.xticks()</span> to rotate the x-axis tick labels by <span style=\"background-color: #F9EBEA; color:##C0392B\">90</span> degrees.\n",
    "3. Display the plot.\n",
    "\n"
   ]
  },
  {
   "cell_type": "code",
   "execution_count": 25,
   "metadata": {},
   "outputs": [
    {
     "data": {
      "image/png": "[encoded data removed]",
      "text/plain": [
       "<matplotlib.figure.Figure at 0xa81cef0>"
      ]
     },
     "metadata": {},
     "output_type": "display_data"
    }
   ],
   "source": [
    "plt.plot(unrate.head(12)['DATE'], unrate.head(12)['VALUE'])\n",
    "plt.xticks(rotation = 90)\n",
    "plt.show()"
   ]
  },
  {
   "cell_type": "markdown",
   "metadata": {},
   "source": [
    "## 9. Adding axis label and a title\n",
    "\n",
    "Let's now finish tweaking this plot by adding axis labels and a title. Always adding axis labels and a title to your plot is a good habit to have, and is especially useful when we're trying to keep track of multiple plots down the road.\n",
    "\n",
    "Here's an overview of the pyplot functions we need to tweak the axis labels and the plot title:\n",
    "\n",
    "- [xlabel()](http://matplotlib.org/api/pyplot_api.html#matplotlib.pyplot.xlabel): accepts a string value, which gets set as the x-axis label.\n",
    "- [ylabel()](http://matplotlib.org/api/pyplot_api.html#matplotlib.pyplot.ylabel): accepts a string value, which is set as the y-axis label.\n",
    "- [title()](http://matplotlib.org/api/pyplot_api.html#matplotlib.pyplot.title): accepts a string value, which is set as the plot title.\n",
    "\n",
    "\n",
    "**Description**:\n",
    "\n",
    "1. Generate the same line chart from the last screen that visualizes the unemployment rates from 1948:\n",
    "    - x-values should be the first 12 values in the <span style=\"background-color: #F9EBEA; color:##C0392B\">DATE</span> column\n",
    "    - y-values should be the first 12 values in the <span style=\"background-color: #F9EBEA; color:##C0392B\">VALUE</span> column\n",
    "    - Rotate the x-axis tick labels by <span style=\"background-color: #F9EBEA; color:##C0392B\">90</span> degrees.\n",
    "2. Set the x-axis label to <span style=\"background-color: #F9EBEA; color:##C0392B\">\"Month\"</span>.\n",
    "3. Set the y-axis label to <span style=\"background-color: #F9EBEA; color:##C0392B\">\"Unemployment Rate\"</span>.\n",
    "4. Set the plot title to <span style=\"background-color: #F9EBEA; color:##C0392B\">\"Monthly Unemployment Trends, 1948\"</span>.\n",
    "5. Display the plot."
   ]
  },
  {
   "cell_type": "code",
   "execution_count": 27,
   "metadata": {},
   "outputs": [
    {
     "data": {
      "image/png": "[encoded data removed]",
      "text/plain": [
       "<matplotlib.figure.Figure at 0xa89a350>"
      ]
     },
     "metadata": {},
     "output_type": "display_data"
    }
   ],
   "source": [
    "plt.plot(unrate.head(12)['DATE'], unrate.head(12)['VALUE'])\n",
    "plt.xticks(rotation = 90)\n",
    "plt.xlabel('Month')\n",
    "plt.ylabel('Unemployment Rate')\n",
    "plt.title('Monthly Unemployment Trends, 1948')\n",
    "plt.show()"
   ]
  }
 ],
 "metadata": {
  "kernelspec": {
   "display_name": "Python 3",
   "language": "python",
   "name": "python3"
  },
  "language_info": {
   "codemirror_mode": {
    "name": "ipython",
    "version": 3
   },
   "file_extension": ".py",
   "mimetype": "text/x-python",
   "name": "python",
   "nbconvert_exporter": "python",
   "pygments_lexer": "ipython3",
   "version": "3.6.1"
  }
 },
 "nbformat": 4,
 "nbformat_minor": 2
}
