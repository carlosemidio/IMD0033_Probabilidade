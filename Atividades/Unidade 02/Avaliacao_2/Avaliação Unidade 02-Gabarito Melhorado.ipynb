{
 "cells": [
  {
   "cell_type": "markdown",
   "metadata": {},
   "source": [
    "Avaliação - Unidade 02\n",
    "==="
   ]
  },
  {
   "cell_type": "markdown",
   "metadata": {},
   "source": [
    "Identificação dos alunos (nome completo): \n",
    "\n",
    "- Este trabalho irá compor 40% da segunda unidade.\n",
    "- Grupo de até dois alunos.\n",
    "- Os alunos deverão enviar (apenas um por grupo) através do Sigaa, o notebook e os datasets gerados na avaliação em um arquivo compactado (.zip). \n",
    "- Todas as respostas devem ser realizadas através de código python e os resultados explicados em estilo markdown\n",
    "- As informações (datasets) necessárias para resolução dos problemas podem ser encontradas em http://dados.ufrn.br/group/ensino\n"
   ]
  },
  {
   "cell_type": "markdown",
   "metadata": {},
   "source": [
    "1. (1 ponto) Quantas e quais disciplinas com código IMD foram consolidadas em 2017.1? \n",
    "**Dica:** \n",
    ">```python\n",
    "df[df['A'].str.contains(\"hello\")]\n",
    "```\n",
    "2. (3 pontos) Realize um estudo envolvendo as propriedades de **assimétria** e **curtose** para as turmas IMD0033 (probabilidade) consolidadas em 2017.1. Utilize gráficos e explique os resultados. Reforce também os horários das disciplinas nos resultados. \n",
    "3. (3 pontos) Utilize a biblioteca seaborn para traçar gráficos que descrevam as distribuições estatísticas (utilizar as funções **facetgrid** e **map**) de todas as turmas IMD0030 (Linguagem de Programação I) consolidas em 2017.1. Na análise, assuma como referência as médias finais e a situação dos alunos. \n",
    "4. (3 pontos) Utilize a biblioteca seaborn para traçar gráficos de histograma referente as médias finais de todas as turmas IMD0029 (Estrutura de dados I) consolidadas em 2017.1. Incremente nos gráficos linhas que descrevam a média e mediana da distribuição. "
   ]
  },
  {
   "cell_type": "markdown",
   "metadata": {},
   "source": [
    "Importação e preparação dos dados\n",
    "=="
   ]
  },
  {
   "cell_type": "code",
   "execution_count": null,
   "metadata": {},
   "outputs": [],
   "source": [
    "import pandas as pd\n",
    "\n",
    "\n",
    "turmas_url = 'http://bit.do/turmas2017_1'\n",
    "notas_url = 'http://bit.do/notas2017_1'\n",
    "\n",
    "# turmas 2017.1\n",
    "turmas = pd.read_csv(turmas_url, sep=';')\n",
    "\n",
    "# matriculas em componentes\n",
    "notas = pd.read_csv(notas_url, sep=';')"
   ]
  },
  {
   "cell_type": "code",
   "execution_count": null,
   "metadata": {},
   "outputs": [],
   "source": [
    "# verificando os dados das turmas\n",
    "print(turmas.columns)\n",
    "turmas.head()"
   ]
  },
  {
   "cell_type": "code",
   "execution_count": null,
   "metadata": {
    "scrolled": true
   },
   "outputs": [],
   "source": [
    "# verificando os dados dos componentes curriculares\n",
    "print(notas.columns)\n",
    "notas.head()"
   ]
  },
  {
   "cell_type": "code",
   "execution_count": null,
   "metadata": {},
   "outputs": [],
   "source": [
    "# filtrando as turmas com código IMD\n",
    "turmas_imd = turmas[turmas.codigo.str.contains(\"IMD\")]\n",
    "\n",
    "# utilizar apenas disciplinas com código \"CONSOLIDADA\"\n",
    "turmas_imd = turmas_imd[turmas_imd.situacao_turma == 'CONSOLIDADA']\n",
    "\n",
    "# resetar os idexes\n",
    "turmas_imd.reset_index(drop=True, inplace=True)\n",
    "\n",
    "# visualizar o novo dataset\n",
    "turmas_imd.head()"
   ]
  },
  {
   "cell_type": "markdown",
   "metadata": {
    "collapsed": true
   },
   "source": [
    "### 1. (1 ponto) Quantas e quais disciplinas com código IMD foram consolidadas em 2017.1?\n"
   ]
  },
  {
   "cell_type": "code",
   "execution_count": null,
   "metadata": {},
   "outputs": [],
   "source": [
    "# Quantas turmas?\n",
    "print('Total de turmas com código IMD consolidadas em 2017.1: %d' % (len(turmas_imd.id_turma.unique())))\n",
    "\n",
    "# Quais turmas (limitei os nomes repetidos)\n",
    "print(turmas_imd.nome_ascii.unique())"
   ]
  },
  {
   "cell_type": "markdown",
   "metadata": {},
   "source": [
    "### 2. (3 pontos) Realize um estudo envolvendo as propriedades de assimétria e curtose para as turmas IMD0033 (probabilidade) consolidadas em 2017.1. Utilize gráficos e explique os resultados. Reforce também os horários das disciplinas nos resultados."
   ]
  },
  {
   "cell_type": "code",
   "execution_count": null,
   "metadata": {
    "scrolled": true
   },
   "outputs": [],
   "source": [
    "# Fazendo um merge entre o dataframe turmas_imd e notas utilizando como base a coluna id_coluna\n",
    "# https://pandas.pydata.org/pandas-docs/stable/merging.html\n",
    "merge_imd = turmas_imd.merge(notas, on=\"id_turma\", how='outer')\n",
    "\n",
    "# Filtrar apenas as colunas que fazem sentido para o problema\n",
    "merge_imd = merge_imd[['codigo','nome_ascii','descricao_horario','id_discente','media_final','situacao']]\n",
    "\n",
    "# Apresentar o novo dataset\n",
    "merge_imd.head()"
   ]
  },
  {
   "cell_type": "code",
   "execution_count": null,
   "metadata": {
    "collapsed": true
   },
   "outputs": [],
   "source": [
    "def dates_form_especific_disc(all_disc, code):\n",
    "    # Filtrar a disciplina IMD0030\n",
    "    disc = all_disc[all_disc['codigo'] == code]\n",
    "\n",
    "    # Eliminar as linhas redundantes dos discentes\n",
    "    disc = disc.drop_duplicates(subset='id_discente')\n",
    "\n",
    "    # Eliminar os alunos com situação 'CANCELADO'\n",
    "    disc = disc[disc.situacao != 'CANCELADO']\n",
    "\n",
    "    # Verificar a existência de valores nulos\n",
    "    disc = disc[~disc['media_final'].isnull()]\n",
    "    \n",
    "    # Eliminate informação desnecessária \n",
    "    # 24M12 (13/02/2017 - 01/07/2017) -> 24M12\n",
    "    disc.descricao_horario = disc.descricao_horario.apply(lambda x: x[:5])\n",
    "    \n",
    "    return disc"
   ]
  },
  {
   "cell_type": "code",
   "execution_count": null,
   "metadata": {},
   "outputs": [],
   "source": [
    "imd0033 = dates_form_especific_disc(merge_imd, \"IMD0033\")\n",
    "\n",
    "# Visualizar o novo dataset\n",
    "imd0033.head()"
   ]
  },
  {
   "cell_type": "code",
   "execution_count": null,
   "metadata": {
    "collapsed": true
   },
   "outputs": [],
   "source": [
    "from scipy.stats import skew,kurtosis\n",
    "\n",
    "skewness = []\n",
    "kurtosiness = []\n",
    "\n",
    "# Calcular o skew e kurtosis para cada turma (horários diferentes)\n",
    "for horario in imd0033.descricao_horario.unique():\n",
    "    skewness.append(skew(imd0033[imd0033['descricao_horario'] == horario]['media_final']))\n",
    "    kurtosiness.append(kurtosis(imd0033[imd0033['descricao_horario'] == horario]['media_final']))"
   ]
  },
  {
   "cell_type": "code",
   "execution_count": null,
   "metadata": {},
   "outputs": [],
   "source": [
    "import matplotlib.pyplot as plt\n",
    "import seaborn as sns\n",
    "\n",
    "# Criando a figura\n",
    "fig, (ax1,ax2) = plt.subplots(figsize=(10,5), ncols=2, nrows=1)\n",
    "\n",
    "# Lista de eixos\n",
    "eixos = [ax1, ax2]\n",
    "\n",
    "# Lista de amostras\n",
    "amostras = []\n",
    "\n",
    "# Configurar os espaços entre as figuras\n",
    "fig.tight_layout()\n",
    "\n",
    "# Título da figura\n",
    "plt.suptitle(\"IMD003[2017.1] - Análise de assimetria e curtose\", \n",
    "             fontsize=20,\n",
    "            y = 1.09)\n",
    "\n",
    "# Margem do título\n",
    "y_title_margin = 1\n",
    "\n",
    "for i,horario in enumerate(imd0033.descricao_horario.unique()):\n",
    "    # Títulos dos subplots\n",
    "    eixos[i].set_title(\"%s skew = %.4f | kurtosis= %.4f \"% (horario,skewness[i],kurtosiness[i]), \n",
    "              y = y_title_margin, fontsize=12)\n",
    "    amostras.append(imd0033[imd0033['descricao_horario'] == horario]['media_final'])\n",
    "\n",
    "# Gerando as distribuições com o Seaborn    \n",
    "sns.distplot(amostras[0], kde = False, ax=ax1)\n",
    "sns.distplot(amostras[1], kde = False, ax=ax2)\n",
    "\n",
    "plt.show()"
   ]
  },
  {
   "cell_type": "markdown",
   "metadata": {},
   "source": [
    "### (3 pontos) Utilize a biblioteca seaborn para traçar gráficos que descrevam as distribuições estatísticas (utilizar as funções facetgrid e map) de todas as turmas IMD0030 (Linguagem de Programação I) consolidas em 2017.1. Na análise, assuma como referência as médias finais e a situação dos alunos."
   ]
  },
  {
   "cell_type": "code",
   "execution_count": null,
   "metadata": {},
   "outputs": [],
   "source": [
    "# Filtrar a disciplina IMD0030\n",
    "imd0030 = dates_form_especific_disc(merge_imd, \"IMD0030\")\n",
    "\n",
    "# Visualizar o novo dataset\n",
    "imd0030.head()"
   ]
  },
  {
   "cell_type": "code",
   "execution_count": null,
   "metadata": {
    "collapsed": true
   },
   "outputs": [],
   "source": [
    "imd0030.media_final = pd.to_numeric(imd0030['media_final'])"
   ]
  },
  {
   "cell_type": "code",
   "execution_count": null,
   "metadata": {},
   "outputs": [],
   "source": [
    "imd0030.info()"
   ]
  },
  {
   "cell_type": "code",
   "execution_count": null,
   "metadata": {},
   "outputs": [],
   "source": [
    "import numpy as np\n",
    "np.seterr(divide='ignore', invalid='ignore')\n",
    "\n",
    "# Colunas serão os horários, as linhas a situação do aluno\n",
    "g = sns.FacetGrid(imd0030, col=\"descricao_horario\", hue=\"situacao\", size=3)\n",
    "# For each subset of values, generate a kernel density plot of the \"situacao\" columns.\n",
    "g.map(sns.kdeplot, \"media_final\", shade=True)\n",
    "\n",
    "g.add_legend()\n",
    "\n",
    "g.set(ylim=(0, 6));\n",
    "\n",
    "sns.despine(left=True, bottom=True)\n",
    "\n",
    "plt.suptitle(\"Estimativa de densidade Kernel em relação à situação e a média final dos alunos de LP1\", \n",
    "             fontsize=15,\n",
    "            y = 1.09)\n",
    "\n",
    "plt.show()\n",
    "\n",
    "\n",
    "# Plot the graph\n",
    "plt.show()"
   ]
  },
  {
   "cell_type": "markdown",
   "metadata": {},
   "source": [
    "### 4. (3 pontos) Utilize a biblioteca seaborn para traçar gráficos de histograma referente as médias finais de todas as turmas IMD0029 (Estrutura de dados I) consolidadas em 2017.1. Incremente nos gráficos linhas que descrevam a média e mediana da distribuição."
   ]
  },
  {
   "cell_type": "code",
   "execution_count": null,
   "metadata": {
    "scrolled": true
   },
   "outputs": [],
   "source": [
    "# Filtrar a disciplina IMD0029\n",
    "imd0029 = dates_form_especific_disc(merge_imd, \"IMD0029\")\n",
    "\n",
    "# Visualizar o novo dataset\n",
    "imd0029.head()"
   ]
  },
  {
   "cell_type": "code",
   "execution_count": null,
   "metadata": {
    "collapsed": true
   },
   "outputs": [],
   "source": [
    "def vertical_mean_line(x,**kwargs):\n",
    "    plt.axvline(x.mean(),color=\"g\")\n",
    "    \n",
    "def vertical_median_line(x,**kwargs):\n",
    "    plt.axvline(x.median(),color=\"r\")"
   ]
  },
  {
   "cell_type": "code",
   "execution_count": null,
   "metadata": {},
   "outputs": [],
   "source": [
    "# Colunas serão os horários, as linhas a situação do aluno\n",
    "g = sns.FacetGrid(imd0030, col=\"descricao_horario\",size=6)\n",
    "\n",
    "# O eixo x será as notas dos alunos\n",
    "g.map(plt.hist, \"media_final\")\n",
    "\n",
    "# Plotando linhas verticais com a média (verde) e mediana (vermelho) \n",
    "g.map(vertical_mean_line, \"media_final\")\n",
    "g.map(vertical_median_line, \"media_final\")\n",
    "\n",
    "\n",
    "# Plot the graph\n",
    "plt.show()"
   ]
  }
 ],
 "metadata": {
  "kernelspec": {
   "display_name": "Python 3",
   "language": "python",
   "name": "python3"
  },
  "language_info": {
   "codemirror_mode": {
    "name": "ipython",
    "version": 3
   },
   "file_extension": ".py",
   "mimetype": "text/x-python",
   "name": "python",
   "nbconvert_exporter": "python",
   "pygments_lexer": "ipython3",
   "version": "3.6.2"
  }
 },
 "nbformat": 4,
 "nbformat_minor": 2
}
